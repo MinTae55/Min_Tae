{
 "cells": [
  {
   "cell_type": "code",
   "execution_count": 4,
   "id": "4a2793ab-63e0-4660-bf9a-1d8e08f9e61c",
   "metadata": {},
   "outputs": [],
   "source": [
    "#Lovely_loveseat 추가&설명(1,2)\n",
    "lovely_loveseat_description=\"Lovely Loveseat. Tufted polyester blend on wood. 32 inches high x 40 inches wide x 30 inches deep. Red or white.\"\n",
    "lovely_loveseat_price=254.00"
   ]
  },
  {
   "cell_type": "code",
   "execution_count": 5,
   "id": "5dc02457-ed8b-4c17-91e2-bacb35b77d46",
   "metadata": {},
   "outputs": [],
   "source": [
    "#stylish_sette 추가&설명(3,4)\n",
    "stylish_settee_description=\"Stylish Settee. Faux leather on birch. 29.50 inches high x 54.75 inches wide x 28 inches deep. Black.\"\n",
    "stylish_settee_price=180.50"
   ]
  },
  {
   "cell_type": "code",
   "execution_count": 6,
   "id": "ac53a2f8-6fba-4265-84b1-4682f6a2e3e4",
   "metadata": {},
   "outputs": [],
   "source": [
    "#luxluxurious_lamp 추가&설명(5,6)\n",
    "luxurious_lamp_description=\"Luxurious Lamp. Glass and iron. 36 inches tall. Brown with cream shade.\"\n",
    "luxurious_lamp_price=52.15"
   ]
  },
  {
   "cell_type": "code",
   "execution_count": 15,
   "id": "435c1951-1f0a-4f46-981f-f221dbe5687d",
   "metadata": {},
   "outputs": [],
   "source": [
    "#7번\n",
    "sales_tax=.088"
   ]
  },
  {
   "cell_type": "code",
   "execution_count": 19,
   "id": "97d965e1-ae73-4a9d-8170-c5a17b1fdb6c",
   "metadata": {},
   "outputs": [],
   "source": [
    "#8,9번\n",
    "customer_one_total=0\n",
    "customer_one_itemization=\"\""
   ]
  },
  {
   "cell_type": "code",
   "execution_count": 20,
   "id": "11806bca-a939-4082-871a-304411ec110a",
   "metadata": {},
   "outputs": [],
   "source": [
    "#10,11번\n",
    "customer_one_total+=lovely_loveseat_price\n",
    "customer_one_itemization=lovely_loveseat_description"
   ]
  },
  {
   "cell_type": "code",
   "execution_count": 21,
   "id": "6b339e7c-70a0-4a09-af20-57590dccb239",
   "metadata": {},
   "outputs": [],
   "source": [
    "#12,13번\n",
    "customer_one_total+=luxurious_lamp_price\n",
    "customer_one_itemization=lovely_loveseat_description+luxurious_lamp_description"
   ]
  },
  {
   "cell_type": "code",
   "execution_count": 22,
   "id": "75f22247-8178-4594-9ca0-3a6da7bf22c0",
   "metadata": {},
   "outputs": [],
   "source": [
    "#14,15번\n",
    "customer_one_tax = customer_one_total * sales_tax\n",
    "customer_one_total += customer_one_tax"
   ]
  },
  {
   "cell_type": "code",
   "execution_count": 24,
   "id": "c419b210-a1b9-43b0-9e94-36e32979b0ff",
   "metadata": {},
   "outputs": [
    {
     "name": "stdout",
     "output_type": "stream",
     "text": [
      "Customer One Items:\n",
      "Lovely Loveseat. Tufted polyester blend on wood. 32 inches high x 40 inches wide x 30 inches deep. Red or white.Luxurious Lamp. Glass and iron. 36 inches tall. Brown with cream shade.\n",
      "Customer One Total:\n",
      "333.09119999999996\n"
     ]
    }
   ],
   "source": [
    "#16~20번, 결과\n",
    "print(\"Customer One Items:\")\n",
    "print(customer_one_itemization)\n",
    "print(\"Customer One Total:\")\n",
    "print(customer_one_total)"
   ]
  }
 ],
 "metadata": {
  "kernelspec": {
   "display_name": "Python 3 (ipykernel)",
   "language": "python",
   "name": "python3"
  },
  "language_info": {
   "codemirror_mode": {
    "name": "ipython",
    "version": 3
   },
   "file_extension": ".py",
   "mimetype": "text/x-python",
   "name": "python",
   "nbconvert_exporter": "python",
   "pygments_lexer": "ipython3",
   "version": "3.9.12"
  }
 },
 "nbformat": 4,
 "nbformat_minor": 5
}
