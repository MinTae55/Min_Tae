{
 "cells": [
  {
   "cell_type": "code",
   "execution_count": 1,
   "id": "a8ea65ef",
   "metadata": {},
   "outputs": [],
   "source": [
    "#1,2\n",
    "month = ['쌍', '쇠', '복', '돌', '팽', '육', '쌍', '개', '칠', '갑', '삼', '방']\n",
    "day=['봉', '구', '욕', '포', '똥', '삼', '식', '석', '놈', '님', '년', '돌', '단', '득', '방', '질',\n",
    "     '장', '걸', '래', '룡', '동', '순', '자', '박', '창', '언', '것', '포', '만', '단', '국']"
   ]
  },
  {
   "cell_type": "code",
   "execution_count": 3,
   "id": "f4c607a4",
   "metadata": {},
   "outputs": [
    {
     "name": "stdout",
     "output_type": "stream",
     "text": [
      "당신의 조선시대 이름은  황삼박 입니다\n"
     ]
    }
   ],
   "source": [
    "#3,4\n",
    "def get_my_chosun_name(family_name,middle_name,last_name):\n",
    "    str=' '\n",
    "    str += family_name\n",
    "    str +=month[middle_name-1]\n",
    "    str +=day[last_name-1]\n",
    "    print('당신의 조선시대 이름은',str,'입니다')\n",
    "get_my_chosun_name('황',11,24)"
   ]
  }
 ],
 "metadata": {
  "kernelspec": {
   "display_name": "Python 3 (ipykernel)",
   "language": "python",
   "name": "python3"
  },
  "language_info": {
   "codemirror_mode": {
    "name": "ipython",
    "version": 3
   },
   "file_extension": ".py",
   "mimetype": "text/x-python",
   "name": "python",
   "nbconvert_exporter": "python",
   "pygments_lexer": "ipython3",
   "version": "3.9.12"
  }
 },
 "nbformat": 4,
 "nbformat_minor": 5
}
