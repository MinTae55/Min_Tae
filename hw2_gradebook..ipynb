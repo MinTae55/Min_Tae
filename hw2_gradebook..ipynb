{
 "cells": [
  {
   "cell_type": "code",
   "execution_count": 2,
   "id": "418d4eaa-cc94-421e-ab3c-71217f969fe4",
   "metadata": {},
   "outputs": [],
   "source": [
    "#1,2번\n",
    "subject=[\"physics\",\"calculus\",\"poetry\",\"history\"]\n",
    "grade=[98,97,85,88]"
   ]
  },
  {
   "cell_type": "code",
   "execution_count": 43,
   "id": "c89c465d-ef44-4f72-94ba-c1d96d0786c7",
   "metadata": {},
   "outputs": [
    {
     "name": "stdout",
     "output_type": "stream",
     "text": [
      "[['physics', 98], ['calculus', 97], ['poetry', 85], ['history', 88]]\n"
     ]
    }
   ],
   "source": [
    "#3,4번\n",
    "gradebook=[[\"physics\",98],[\"calculus\",97],[\"poetry\",85],[\"history\",88]]\n",
    "print(gradebook)"
   ]
  },
  {
   "cell_type": "code",
   "execution_count": 44,
   "id": "e51d451d-0558-4f2f-9e56-2f2696b14287",
   "metadata": {},
   "outputs": [],
   "source": [
    "#5,6번\n",
    "gradebook.append([\"computer science\",100])\n",
    "gradebook.append([\"visual arts\",93])"
   ]
  },
  {
   "cell_type": "code",
   "execution_count": 45,
   "id": "eb880f05-7afb-449e-bf77-5428d9ffec9a",
   "metadata": {},
   "outputs": [],
   "source": [
    "#7번,8번\n",
    "gradebook[5][1]=98\n",
    "gradebook[2].remove(85)"
   ]
  },
  {
   "cell_type": "code",
   "execution_count": 46,
   "id": "a5bfc03e-a71e-46c2-a7f3-a42516ed3a77",
   "metadata": {},
   "outputs": [
    {
     "name": "stdout",
     "output_type": "stream",
     "text": [
      "[['physics', 98], ['calculus', 97], ['poetry', 'Pass'], ['history', 88], ['computer science', 100], ['visual arts', 98]]\n"
     ]
    }
   ],
   "source": [
    "#9번\n",
    "gradebook[2].append(\"Pass\")\n",
    "print(gradebook)"
   ]
  },
  {
   "cell_type": "code",
   "execution_count": 47,
   "id": "59f1d927-31f3-4db6-845c-c59378d62cf0",
   "metadata": {},
   "outputs": [],
   "source": [
    "#10번\n",
    "last_semester_gradebook = [[\"politics\", 80], [\"latin\", 96], [\"dance\", 97], [\"architecture\", 65]]"
   ]
  },
  {
   "cell_type": "code",
   "execution_count": 49,
   "id": "4a1aebce-6c46-4718-8b3a-fbe09056a9c1",
   "metadata": {},
   "outputs": [
    {
     "name": "stdout",
     "output_type": "stream",
     "text": [
      "[['politics', 80], ['latin', 96], ['dance', 97], ['architecture', 65], ['physics', 98], ['calculus', 97], ['poetry', 'Pass'], ['history', 88], ['computer science', 100], ['visual arts', 98]]\n"
     ]
    }
   ],
   "source": [
    "#11번,12번 (결과)\n",
    "full_gradebook=last_semester_gradebook+gradebook\n",
    "print(full_gradebook)"
   ]
  }
 ],
 "metadata": {
  "kernelspec": {
   "display_name": "Python 3 (ipykernel)",
   "language": "python",
   "name": "python3"
  },
  "language_info": {
   "codemirror_mode": {
    "name": "ipython",
    "version": 3
   },
   "file_extension": ".py",
   "mimetype": "text/x-python",
   "name": "python",
   "nbconvert_exporter": "python",
   "pygments_lexer": "ipython3",
   "version": "3.9.12"
  }
 },
 "nbformat": 4,
 "nbformat_minor": 5
}
